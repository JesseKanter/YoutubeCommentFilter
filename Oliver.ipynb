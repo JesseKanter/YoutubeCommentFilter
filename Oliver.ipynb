{
 "cells": [
  {
   "cell_type": "code",
   "execution_count": 17,
   "metadata": {},
   "outputs": [],
   "source": [
    "import numpy as np\n",
    "import pandas as pd\n",
    "import matplotlib.pyplot as plt\n",
    "import seaborn as sns\n",
    "%matplotlib inline"
   ]
  },
  {
   "cell_type": "markdown",
   "metadata": {},
   "source": [
    "## Getting Data Ready"
   ]
  },
  {
   "cell_type": "code",
   "execution_count": 132,
   "metadata": {},
   "outputs": [],
   "source": [
    "oliver_confed_data=pd.read_csv('comments-J5b_-TZwQ0I.csv')\n"
   ]
  },
  {
   "cell_type": "code",
   "execution_count": 19,
   "metadata": {},
   "outputs": [],
   "source": [
    "oliver_waste_data=pd.read_csv('comments-ZwY2E0hjGuU.csv')"
   ]
  },
  {
   "cell_type": "code",
   "execution_count": 133,
   "metadata": {},
   "outputs": [],
   "source": [
    "oliver_confed_data['length_commentText']=oliver_confed_data.commentText.apply(lambda s: s if type(s)==float else len(s))"
   ]
  },
  {
   "cell_type": "markdown",
   "metadata": {},
   "source": [
    "## first look"
   ]
  },
  {
   "cell_type": "code",
   "execution_count": 37,
   "metadata": {},
   "outputs": [
    {
     "data": {
      "text/html": [
       "<div>\n",
       "<style scoped>\n",
       "    .dataframe tbody tr th:only-of-type {\n",
       "        vertical-align: middle;\n",
       "    }\n",
       "\n",
       "    .dataframe tbody tr th {\n",
       "        vertical-align: top;\n",
       "    }\n",
       "\n",
       "    .dataframe thead th {\n",
       "        text-align: right;\n",
       "    }\n",
       "</style>\n",
       "<table border=\"1\" class=\"dataframe\">\n",
       "  <thead>\n",
       "    <tr style=\"text-align: right;\">\n",
       "      <th></th>\n",
       "      <th>id</th>\n",
       "      <th>user</th>\n",
       "      <th>date</th>\n",
       "      <th>timestamp</th>\n",
       "      <th>commentText</th>\n",
       "      <th>likes</th>\n",
       "      <th>hasReplies</th>\n",
       "      <th>numberOfReplies</th>\n",
       "      <th>replies.id</th>\n",
       "      <th>replies.user</th>\n",
       "      <th>replies.date</th>\n",
       "      <th>replies.timestamp</th>\n",
       "      <th>replies.commentText</th>\n",
       "      <th>replies.likes</th>\n",
       "      <th>length_commentText</th>\n",
       "    </tr>\n",
       "  </thead>\n",
       "  <tbody>\n",
       "    <tr>\n",
       "      <th>33439</th>\n",
       "      <td>NaN</td>\n",
       "      <td>NaN</td>\n",
       "      <td>NaN</td>\n",
       "      <td>NaN</td>\n",
       "      <td>NaN</td>\n",
       "      <td>NaN</td>\n",
       "      <td>NaN</td>\n",
       "      <td>NaN</td>\n",
       "      <td>Ugwr1YKCFkAPqUYgy214AaABAg.8YUbanEEorY8YUbe4ecJwL</td>\n",
       "      <td>Pablo Zaragoza</td>\n",
       "      <td>1 year ago</td>\n",
       "      <td>1.537106e+12</td>\n",
       "      <td>First* but also fiesta</td>\n",
       "      <td>2.0</td>\n",
       "      <td>NaN</td>\n",
       "    </tr>\n",
       "    <tr>\n",
       "      <th>33440</th>\n",
       "      <td>Ugx1f7JLT0LA6jysjQ54AaABAg</td>\n",
       "      <td>Ashleigh Gauch</td>\n",
       "      <td>1 year ago</td>\n",
       "      <td>1.537106e+12</td>\n",
       "      <td>1st</td>\n",
       "      <td>1.0</td>\n",
       "      <td>False</td>\n",
       "      <td>0.0</td>\n",
       "      <td>NaN</td>\n",
       "      <td>NaN</td>\n",
       "      <td>NaN</td>\n",
       "      <td>NaN</td>\n",
       "      <td>NaN</td>\n",
       "      <td>NaN</td>\n",
       "      <td>3.0</td>\n",
       "    </tr>\n",
       "    <tr>\n",
       "      <th>33441</th>\n",
       "      <td>Ugy00mJ1yo9pdjFvGn94AaABAg</td>\n",
       "      <td>Donut Chan</td>\n",
       "      <td>1 year ago</td>\n",
       "      <td>1.537106e+12</td>\n",
       "      <td>Hi</td>\n",
       "      <td>1.0</td>\n",
       "      <td>False</td>\n",
       "      <td>0.0</td>\n",
       "      <td>NaN</td>\n",
       "      <td>NaN</td>\n",
       "      <td>NaN</td>\n",
       "      <td>NaN</td>\n",
       "      <td>NaN</td>\n",
       "      <td>NaN</td>\n",
       "      <td>2.0</td>\n",
       "    </tr>\n",
       "    <tr>\n",
       "      <th>33442</th>\n",
       "      <td>Ugziz9jxbS4sW4uK1894AaABAg</td>\n",
       "      <td>Derocax</td>\n",
       "      <td>1 year ago</td>\n",
       "      <td>1.537106e+12</td>\n",
       "      <td>First</td>\n",
       "      <td>8.0</td>\n",
       "      <td>True</td>\n",
       "      <td>1.0</td>\n",
       "      <td>NaN</td>\n",
       "      <td>NaN</td>\n",
       "      <td>NaN</td>\n",
       "      <td>NaN</td>\n",
       "      <td>NaN</td>\n",
       "      <td>NaN</td>\n",
       "      <td>5.0</td>\n",
       "    </tr>\n",
       "    <tr>\n",
       "      <th>33443</th>\n",
       "      <td>NaN</td>\n",
       "      <td>NaN</td>\n",
       "      <td>NaN</td>\n",
       "      <td>NaN</td>\n",
       "      <td>NaN</td>\n",
       "      <td>NaN</td>\n",
       "      <td>NaN</td>\n",
       "      <td>NaN</td>\n",
       "      <td>Ugziz9jxbS4sW4uK1894AaABAg.8YUbZaWQKom8YUbcKWVHwP</td>\n",
       "      <td>Derocax</td>\n",
       "      <td>1 year ago</td>\n",
       "      <td>1.537106e+12</td>\n",
       "      <td>Yes!</td>\n",
       "      <td>0.0</td>\n",
       "      <td>NaN</td>\n",
       "    </tr>\n",
       "  </tbody>\n",
       "</table>\n",
       "</div>"
      ],
      "text/plain": [
       "                               id            user        date     timestamp  \\\n",
       "33439                         NaN             NaN         NaN           NaN   \n",
       "33440  Ugx1f7JLT0LA6jysjQ54AaABAg  Ashleigh Gauch  1 year ago  1.537106e+12   \n",
       "33441  Ugy00mJ1yo9pdjFvGn94AaABAg      Donut Chan  1 year ago  1.537106e+12   \n",
       "33442  Ugziz9jxbS4sW4uK1894AaABAg         Derocax  1 year ago  1.537106e+12   \n",
       "33443                         NaN             NaN         NaN           NaN   \n",
       "\n",
       "      commentText  likes hasReplies  numberOfReplies  \\\n",
       "33439         NaN    NaN        NaN              NaN   \n",
       "33440         1st    1.0      False              0.0   \n",
       "33441          Hi    1.0      False              0.0   \n",
       "33442       First    8.0       True              1.0   \n",
       "33443         NaN    NaN        NaN              NaN   \n",
       "\n",
       "                                              replies.id    replies.user  \\\n",
       "33439  Ugwr1YKCFkAPqUYgy214AaABAg.8YUbanEEorY8YUbe4ecJwL  Pablo Zaragoza   \n",
       "33440                                                NaN             NaN   \n",
       "33441                                                NaN             NaN   \n",
       "33442                                                NaN             NaN   \n",
       "33443  Ugziz9jxbS4sW4uK1894AaABAg.8YUbZaWQKom8YUbcKWVHwP         Derocax   \n",
       "\n",
       "      replies.date  replies.timestamp     replies.commentText  replies.likes  \\\n",
       "33439   1 year ago       1.537106e+12  First* but also fiesta            2.0   \n",
       "33440          NaN                NaN                     NaN            NaN   \n",
       "33441          NaN                NaN                     NaN            NaN   \n",
       "33442          NaN                NaN                     NaN            NaN   \n",
       "33443   1 year ago       1.537106e+12                    Yes!            0.0   \n",
       "\n",
       "       length_commentText  \n",
       "33439                 NaN  \n",
       "33440                 3.0  \n",
       "33441                 2.0  \n",
       "33442                 5.0  \n",
       "33443                 NaN  "
      ]
     },
     "execution_count": 37,
     "metadata": {},
     "output_type": "execute_result"
    }
   ],
   "source": [
    "oliver_confed_data.tail()"
   ]
  },
  {
   "cell_type": "code",
   "execution_count": 7,
   "metadata": {},
   "outputs": [
    {
     "data": {
      "text/html": [
       "<div>\n",
       "<style scoped>\n",
       "    .dataframe tbody tr th:only-of-type {\n",
       "        vertical-align: middle;\n",
       "    }\n",
       "\n",
       "    .dataframe tbody tr th {\n",
       "        vertical-align: top;\n",
       "    }\n",
       "\n",
       "    .dataframe thead th {\n",
       "        text-align: right;\n",
       "    }\n",
       "</style>\n",
       "<table border=\"1\" class=\"dataframe\">\n",
       "  <thead>\n",
       "    <tr style=\"text-align: right;\">\n",
       "      <th></th>\n",
       "      <th>timestamp</th>\n",
       "      <th>likes</th>\n",
       "      <th>numberOfReplies</th>\n",
       "      <th>replies.timestamp</th>\n",
       "      <th>replies.likes</th>\n",
       "      <th>length_commentText</th>\n",
       "    </tr>\n",
       "  </thead>\n",
       "  <tbody>\n",
       "    <tr>\n",
       "      <th>count</th>\n",
       "      <td>1.389400e+04</td>\n",
       "      <td>13894.000000</td>\n",
       "      <td>13894.000000</td>\n",
       "      <td>1.955000e+04</td>\n",
       "      <td>19550.000000</td>\n",
       "      <td>13894.000000</td>\n",
       "    </tr>\n",
       "    <tr>\n",
       "      <th>mean</th>\n",
       "      <td>1.539515e+12</td>\n",
       "      <td>12.997553</td>\n",
       "      <td>1.407082</td>\n",
       "      <td>1.540580e+12</td>\n",
       "      <td>2.868951</td>\n",
       "      <td>227.248309</td>\n",
       "    </tr>\n",
       "    <tr>\n",
       "      <th>std</th>\n",
       "      <td>7.078632e+09</td>\n",
       "      <td>106.434842</td>\n",
       "      <td>6.925759</td>\n",
       "      <td>8.417709e+09</td>\n",
       "      <td>9.969636</td>\n",
       "      <td>397.461773</td>\n",
       "    </tr>\n",
       "    <tr>\n",
       "      <th>min</th>\n",
       "      <td>1.537105e+12</td>\n",
       "      <td>0.000000</td>\n",
       "      <td>0.000000</td>\n",
       "      <td>1.537105e+12</td>\n",
       "      <td>0.000000</td>\n",
       "      <td>1.000000</td>\n",
       "    </tr>\n",
       "    <tr>\n",
       "      <th>25%</th>\n",
       "      <td>1.537106e+12</td>\n",
       "      <td>0.000000</td>\n",
       "      <td>0.000000</td>\n",
       "      <td>1.537106e+12</td>\n",
       "      <td>0.000000</td>\n",
       "      <td>54.000000</td>\n",
       "    </tr>\n",
       "    <tr>\n",
       "      <th>50%</th>\n",
       "      <td>1.537106e+12</td>\n",
       "      <td>0.000000</td>\n",
       "      <td>0.000000</td>\n",
       "      <td>1.537106e+12</td>\n",
       "      <td>0.000000</td>\n",
       "      <td>109.000000</td>\n",
       "    </tr>\n",
       "    <tr>\n",
       "      <th>75%</th>\n",
       "      <td>1.537106e+12</td>\n",
       "      <td>0.000000</td>\n",
       "      <td>0.000000</td>\n",
       "      <td>1.537106e+12</td>\n",
       "      <td>2.000000</td>\n",
       "      <td>240.000000</td>\n",
       "    </tr>\n",
       "    <tr>\n",
       "      <th>max</th>\n",
       "      <td>1.568631e+12</td>\n",
       "      <td>4684.000000</td>\n",
       "      <td>204.000000</td>\n",
       "      <td>1.568638e+12</td>\n",
       "      <td>492.000000</td>\n",
       "      <td>9896.000000</td>\n",
       "    </tr>\n",
       "  </tbody>\n",
       "</table>\n",
       "</div>"
      ],
      "text/plain": [
       "          timestamp         likes  numberOfReplies  replies.timestamp  \\\n",
       "count  1.389400e+04  13894.000000     13894.000000       1.955000e+04   \n",
       "mean   1.539515e+12     12.997553         1.407082       1.540580e+12   \n",
       "std    7.078632e+09    106.434842         6.925759       8.417709e+09   \n",
       "min    1.537105e+12      0.000000         0.000000       1.537105e+12   \n",
       "25%    1.537106e+12      0.000000         0.000000       1.537106e+12   \n",
       "50%    1.537106e+12      0.000000         0.000000       1.537106e+12   \n",
       "75%    1.537106e+12      0.000000         0.000000       1.537106e+12   \n",
       "max    1.568631e+12   4684.000000       204.000000       1.568638e+12   \n",
       "\n",
       "       replies.likes  length_commentText  \n",
       "count   19550.000000        13894.000000  \n",
       "mean        2.868951          227.248309  \n",
       "std         9.969636          397.461773  \n",
       "min         0.000000            1.000000  \n",
       "25%         0.000000           54.000000  \n",
       "50%         0.000000          109.000000  \n",
       "75%         2.000000          240.000000  \n",
       "max       492.000000         9896.000000  "
      ]
     },
     "execution_count": 7,
     "metadata": {},
     "output_type": "execute_result"
    }
   ],
   "source": [
    "oliver_confed_data.describe()"
   ]
  },
  {
   "cell_type": "code",
   "execution_count": 38,
   "metadata": {},
   "outputs": [],
   "source": [
    "#print(oliver_confed_data[oliver_confed_data.length_commentText==9896].loc[17221,'commentText'])"
   ]
  },
  {
   "cell_type": "code",
   "execution_count": 43,
   "metadata": {},
   "outputs": [
    {
     "data": {
      "text/plain": [
       "(0, 10.5)"
      ]
     },
     "execution_count": 43,
     "metadata": {},
     "output_type": "execute_result"
    },
    {
     "data": {
      "image/png": "[encoded data removed]",
      "text/plain": [
       "<Figure size 432x288 with 2 Axes>"
      ]
     },
     "metadata": {
      "needs_background": "light"
     },
     "output_type": "display_data"
    }
   ],
   "source": [
    "# Creates blank canvas\n",
    "fig = plt.figure()\n",
    "\n",
    "axes1 = fig.add_axes([0., 0., .5, .75]) # main axes\n",
    "axes2 = fig.add_axes([0.2, 0.35, 0.3, 0.4]) # inset axes\n",
    "\n",
    "# Larger Figure Axes 1\n",
    "axes1.plot((oliver_confed_data.length_commentText/oliver_confed_data.length_commentText.max()).value_counts(),'.')\n",
    "axes1.set_xlabel('Length/Max Length')\n",
    "axes1.set_ylabel('occurrences')\n",
    "axes1.set_title('Length Distributuion, Max Length = ' + str(oliver_confed_data.length_commentText.max()))\n",
    "\n",
    "# Insert Figure Axes 2\n",
    "axes2.plot((oliver_confed_data.length_commentText/oliver_confed_data.length_commentText.max()).value_counts(),'.')\n",
    "axes2.set_ylim([0, 10.5])\n",
    "# axes2.set_xlabel('X_label_axes2')\n",
    "# axes2.set_ylabel('Y_label_axes2')\n",
    "# axes2.set_title('Axes 2 Title');"
   ]
  },
  {
   "cell_type": "code",
   "execution_count": 69,
   "metadata": {},
   "outputs": [
    {
     "data": {
      "text/plain": [
       "(0, 10.5)"
      ]
     },
     "execution_count": 69,
     "metadata": {},
     "output_type": "execute_result"
    },
    {
     "data": {
      "image/png": "[encoded data removed]",
      "text/plain": [
       "<Figure size 432x288 with 2 Axes>"
      ]
     },
     "metadata": {
      "needs_background": "light"
     },
     "output_type": "display_data"
    }
   ],
   "source": [
    "# Creates blank canvas\n",
    "fig = plt.figure()\n",
    "\n",
    "axes1 = fig.add_axes([0., 0., .5, .75]) # main axes\n",
    "axes2 = fig.add_axes([0.2, 0.35, 0.3, 0.4]) # inset axes\n",
    "\n",
    "# Larger Figure Axes 1\n",
    "axes1.plot((oliver_confed_data.likes/oliver_confed_data.likes.max()).value_counts(),'.')\n",
    "axes1.set_xlabel('Likes/Max Likes')\n",
    "axes1.set_ylabel('occurrences')\n",
    "axes1.set_title('Likes Distributuion, Max Likes = ' + str(oliver_confed_data.likes.max()))\n",
    "\n",
    "# Insert Figure Axes 2\n",
    "axes2.plot((oliver_confed_data.likes/oliver_confed_data.likes.max()).value_counts(),'.')\n",
    "axes2.set_ylim([0, 10.5])\n",
    "# axes2.set_xlabel('X_label_axes2')\n",
    "# axes2.set_ylabel('Y_label_axes2')\n",
    "# axes2.set_title('Axes 2 Title');"
   ]
  },
  {
   "cell_type": "code",
   "execution_count": null,
   "metadata": {},
   "outputs": [],
   "source": []
  },
  {
   "cell_type": "code",
   "execution_count": 111,
   "metadata": {},
   "outputs": [
    {
     "data": {
      "text/plain": [
       "False"
      ]
     },
     "execution_count": 111,
     "metadata": {},
     "output_type": "execute_result"
    }
   ],
   "source": [
    "'jesse is me'.find('jes')>0"
   ]
  },
  {
   "cell_type": "markdown",
   "metadata": {},
   "source": [
    "## filter"
   ]
  },
  {
   "cell_type": "code",
   "execution_count": 22,
   "metadata": {},
   "outputs": [],
   "source": [
    "def extractor(data,Filter=None,top=None,above_num=None,below_num=None,above_precMax=None,below_precMax=None,Has_links=None):\n",
    "    ''' hi this is a test'''\n",
    "    if Filter=='Likes':\n",
    "        col_name='likes'\n",
    "    if Filter=='Replies':\n",
    "        col_name='numberOfReplies'\n",
    "    if Filter=='Length':\n",
    "        col_name='length_commentText'\n",
    "    \n",
    "    \n",
    "    \n",
    "    if top!=None:\n",
    "        return data.sort_values(col_name,ascending=False).head(top)\n",
    "    if above_num!=None:\n",
    "        return data[data[col_name]>=above_num]\n",
    "    if below_num!=None:\n",
    "        return data[data[col_name]<=below_num]\n",
    "    if above_precMax!=None:\n",
    "        return data[data[col_name]>=data[col_name].max()*above_precMax/100]\n",
    "    if below_precMax!=None:\n",
    "        return data[data[col_name]<=data[col_name].max()*above_precMax/100]\n",
    "        \n",
    "    if Has_links==True:\n",
    "        return oliver_confed_data[oliver_confed_data['id'].notnull()][oliver_confed_data[oliver_confed_data['id'].notnull()]['commentText'].str.contains('http')]\n",
    "        "
   ]
  },
  {
   "cell_type": "code",
   "execution_count": 177,
   "metadata": {},
   "outputs": [
    {
     "data": {
      "text/html": [
       "<div>\n",
       "<style scoped>\n",
       "    .dataframe tbody tr th:only-of-type {\n",
       "        vertical-align: middle;\n",
       "    }\n",
       "\n",
       "    .dataframe tbody tr th {\n",
       "        vertical-align: top;\n",
       "    }\n",
       "\n",
       "    .dataframe thead th {\n",
       "        text-align: right;\n",
       "    }\n",
       "</style>\n",
       "<table border=\"1\" class=\"dataframe\">\n",
       "  <thead>\n",
       "    <tr style=\"text-align: right;\">\n",
       "      <th></th>\n",
       "      <th>id</th>\n",
       "      <th>user</th>\n",
       "      <th>date</th>\n",
       "      <th>timestamp</th>\n",
       "      <th>commentText</th>\n",
       "      <th>likes</th>\n",
       "      <th>hasReplies</th>\n",
       "      <th>numberOfReplies</th>\n",
       "      <th>replies.id</th>\n",
       "      <th>replies.user</th>\n",
       "      <th>replies.date</th>\n",
       "      <th>replies.timestamp</th>\n",
       "      <th>replies.commentText</th>\n",
       "      <th>replies.likes</th>\n",
       "      <th>length_commentText</th>\n",
       "    </tr>\n",
       "  </thead>\n",
       "  <tbody>\n",
       "    <tr>\n",
       "      <th>15113</th>\n",
       "      <td>UgxWL2VpGt7dDPAMSfZ4AaABAg</td>\n",
       "      <td>Dorian McCormick</td>\n",
       "      <td>1 year ago</td>\n",
       "      <td>1.537106e+12</td>\n",
       "      <td>\"Do you know how much a slave costs back then?...</td>\n",
       "      <td>1585.0</td>\n",
       "      <td>True</td>\n",
       "      <td>204.0</td>\n",
       "      <td>NaN</td>\n",
       "      <td>NaN</td>\n",
       "      <td>NaN</td>\n",
       "      <td>NaN</td>\n",
       "      <td>NaN</td>\n",
       "      <td>NaN</td>\n",
       "      <td>105.0</td>\n",
       "    </tr>\n",
       "    <tr>\n",
       "      <th>24707</th>\n",
       "      <td>UgwjkVOSQpOp1fu5WlJ4AaABAg</td>\n",
       "      <td>The flamingsword</td>\n",
       "      <td>1 year ago</td>\n",
       "      <td>1.537106e+12</td>\n",
       "      <td>Imagine if Germany started to erect statues of...</td>\n",
       "      <td>2989.0</td>\n",
       "      <td>True</td>\n",
       "      <td>190.0</td>\n",
       "      <td>NaN</td>\n",
       "      <td>NaN</td>\n",
       "      <td>NaN</td>\n",
       "      <td>NaN</td>\n",
       "      <td>NaN</td>\n",
       "      <td>NaN</td>\n",
       "      <td>132.0</td>\n",
       "    </tr>\n",
       "    <tr>\n",
       "      <th>25293</th>\n",
       "      <td>UgzM-kPON8V--B-VcB94AaABAg</td>\n",
       "      <td>Laura Margolusová</td>\n",
       "      <td>1 year ago</td>\n",
       "      <td>1.537106e+12</td>\n",
       "      <td>I’m German and imagine if we would have Hitler...</td>\n",
       "      <td>3037.0</td>\n",
       "      <td>True</td>\n",
       "      <td>173.0</td>\n",
       "      <td>NaN</td>\n",
       "      <td>NaN</td>\n",
       "      <td>NaN</td>\n",
       "      <td>NaN</td>\n",
       "      <td>NaN</td>\n",
       "      <td>NaN</td>\n",
       "      <td>105.0</td>\n",
       "    </tr>\n",
       "    <tr>\n",
       "      <th>6525</th>\n",
       "      <td>UgyeX-FqDaYxHdLXnvV4AaABAg</td>\n",
       "      <td>Alfred Soul</td>\n",
       "      <td>1 year ago</td>\n",
       "      <td>1.537105e+12</td>\n",
       "      <td>I'm German. Should we just hang Swastikas from...</td>\n",
       "      <td>737.0</td>\n",
       "      <td>True</td>\n",
       "      <td>168.0</td>\n",
       "      <td>NaN</td>\n",
       "      <td>NaN</td>\n",
       "      <td>NaN</td>\n",
       "      <td>NaN</td>\n",
       "      <td>NaN</td>\n",
       "      <td>NaN</td>\n",
       "      <td>131.0</td>\n",
       "    </tr>\n",
       "    <tr>\n",
       "      <th>29664</th>\n",
       "      <td>UgzyCA36gBSeGqcYGC14AaABAg</td>\n",
       "      <td>Annie</td>\n",
       "      <td>1 year ago</td>\n",
       "      <td>1.537106e+12</td>\n",
       "      <td>Being an Indian, the cause of the American Civ...</td>\n",
       "      <td>2006.0</td>\n",
       "      <td>True</td>\n",
       "      <td>141.0</td>\n",
       "      <td>NaN</td>\n",
       "      <td>NaN</td>\n",
       "      <td>NaN</td>\n",
       "      <td>NaN</td>\n",
       "      <td>NaN</td>\n",
       "      <td>NaN</td>\n",
       "      <td>750.0</td>\n",
       "    </tr>\n",
       "  </tbody>\n",
       "</table>\n",
       "</div>"
      ],
      "text/plain": [
       "                               id               user        date  \\\n",
       "15113  UgxWL2VpGt7dDPAMSfZ4AaABAg   Dorian McCormick  1 year ago   \n",
       "24707  UgwjkVOSQpOp1fu5WlJ4AaABAg   The flamingsword  1 year ago   \n",
       "25293  UgzM-kPON8V--B-VcB94AaABAg  Laura Margolusová  1 year ago   \n",
       "6525   UgyeX-FqDaYxHdLXnvV4AaABAg        Alfred Soul  1 year ago   \n",
       "29664  UgzyCA36gBSeGqcYGC14AaABAg              Annie  1 year ago   \n",
       "\n",
       "          timestamp                                        commentText  \\\n",
       "15113  1.537106e+12  \"Do you know how much a slave costs back then?...   \n",
       "24707  1.537106e+12  Imagine if Germany started to erect statues of...   \n",
       "25293  1.537106e+12  I’m German and imagine if we would have Hitler...   \n",
       "6525   1.537105e+12  I'm German. Should we just hang Swastikas from...   \n",
       "29664  1.537106e+12  Being an Indian, the cause of the American Civ...   \n",
       "\n",
       "        likes hasReplies  numberOfReplies replies.id replies.user  \\\n",
       "15113  1585.0       True            204.0        NaN          NaN   \n",
       "24707  2989.0       True            190.0        NaN          NaN   \n",
       "25293  3037.0       True            173.0        NaN          NaN   \n",
       "6525    737.0       True            168.0        NaN          NaN   \n",
       "29664  2006.0       True            141.0        NaN          NaN   \n",
       "\n",
       "      replies.date  replies.timestamp replies.commentText  replies.likes  \\\n",
       "15113          NaN                NaN                 NaN            NaN   \n",
       "24707          NaN                NaN                 NaN            NaN   \n",
       "25293          NaN                NaN                 NaN            NaN   \n",
       "6525           NaN                NaN                 NaN            NaN   \n",
       "29664          NaN                NaN                 NaN            NaN   \n",
       "\n",
       "       length_commentText  \n",
       "15113               105.0  \n",
       "24707               132.0  \n",
       "25293               105.0  \n",
       "6525                131.0  \n",
       "29664               750.0  "
      ]
     },
     "execution_count": 177,
     "metadata": {},
     "output_type": "execute_result"
    }
   ],
   "source": [
    "extractor(data=oliver_confed_data, Filter='Replies',top=5)"
   ]
  },
  {
   "cell_type": "code",
   "execution_count": 100,
   "metadata": {},
   "outputs": [
    {
     "name": "stdout",
     "output_type": "stream",
     "text": [
      "Being an Indian, the cause of the American Civil War seemed quite obvious to me from the start. But then I read that not everyone agrees with that. \n",
      "\n",
      "Then I saw an episode of Crash Course History where John Green explains how his past self raised the same question to his teacher What about state's rights? \n",
      "To which the teacher responded - State's right to WHAT Sir? ( https://youtu.be/roNmeOOJCDY )\n",
      "\n",
      "Clear as crystal.\n",
      "\n",
      "EDIT : By Indian, I meant Indian. You know, from India. What I meant by specifying that was 'as an OUTSIDER, the cause was pretty obvious'. \n",
      "Also, just because your ignorant white ancestors made a stupid mistake, stop rolling with it. Those people are native Americans. There is absolutely no reason this madness should continue.\n"
     ]
    }
   ],
   "source": [
    "print(extractor(data=oliver_confed_data, Filter='Replies',top=5).reset_index(drop=True).commentText[4])"
   ]
  },
  {
   "cell_type": "code",
   "execution_count": null,
   "metadata": {},
   "outputs": [],
   "source": [
    "extractor(data=oliver_confed_data,filter='Likes',top=#)\n",
    "extractor(data=oliver_confed_data,filter='Replies',top=#)\n",
    "extractor(data=oliver_confed_data,filter='Length',top=#)\n",
    "extractor(data=oliver_confed_data,filter='Likes',above=%/below=%)\n",
    "extractor(data=oliver_confed_data,filter=['critical','Likes'],top=#)\n",
    "extractor(data=oliver_confed_data,filter=['supportive','Likes'],above=%/below=%)\n",
    "\n",
    "\n",
    "\n",
    "\n",
    "         "
   ]
  },
  {
   "cell_type": "code",
   "execution_count": 50,
   "metadata": {},
   "outputs": [
    {
     "name": "stdout",
     "output_type": "stream",
     "text": [
      "None\n"
     ]
    }
   ],
   "source": [
    "monkeys=None\n",
    "if monkeys==None:\n",
    "    print('None')\n",
    "else:\n",
    "    print('not None')\n"
   ]
  },
  {
   "cell_type": "code",
   "execution_count": 113,
   "metadata": {},
   "outputs": [
    {
     "ename": "AttributeError",
     "evalue": "'Series' object has no attribute 'find'",
     "output_type": "error",
     "traceback": [
      "\u001b[0;31m---------------------------------------------------------------------------\u001b[0m",
      "\u001b[0;31mAttributeError\u001b[0m                            Traceback (most recent call last)",
      "\u001b[0;32m<ipython-input-113-c3c1911791be>\u001b[0m in \u001b[0;36m<module>\u001b[0;34m\u001b[0m\n\u001b[0;32m----> 1\u001b[0;31m \u001b[0moliver_confed_data\u001b[0m\u001b[0;34m[\u001b[0m\u001b[0moliver_confed_data\u001b[0m\u001b[0;34m[\u001b[0m\u001b[0;34m'commentText'\u001b[0m\u001b[0;34m]\u001b[0m\u001b[0;34m.\u001b[0m\u001b[0mfind\u001b[0m\u001b[0;34m(\u001b[0m\u001b[0;34m'crowder'\u001b[0m\u001b[0;34m)\u001b[0m\u001b[0;34m]\u001b[0m\u001b[0;34m\u001b[0m\u001b[0;34m\u001b[0m\u001b[0m\n\u001b[0m",
      "\u001b[0;32m/anaconda3/envs/insight/lib/python3.7/site-packages/pandas/core/generic.py\u001b[0m in \u001b[0;36m__getattr__\u001b[0;34m(self, name)\u001b[0m\n\u001b[1;32m   5178\u001b[0m             \u001b[0;32mif\u001b[0m \u001b[0mself\u001b[0m\u001b[0;34m.\u001b[0m\u001b[0m_info_axis\u001b[0m\u001b[0;34m.\u001b[0m\u001b[0m_can_hold_identifiers_and_holds_name\u001b[0m\u001b[0;34m(\u001b[0m\u001b[0mname\u001b[0m\u001b[0;34m)\u001b[0m\u001b[0;34m:\u001b[0m\u001b[0;34m\u001b[0m\u001b[0;34m\u001b[0m\u001b[0m\n\u001b[1;32m   5179\u001b[0m                 \u001b[0;32mreturn\u001b[0m \u001b[0mself\u001b[0m\u001b[0;34m[\u001b[0m\u001b[0mname\u001b[0m\u001b[0;34m]\u001b[0m\u001b[0;34m\u001b[0m\u001b[0;34m\u001b[0m\u001b[0m\n\u001b[0;32m-> 5180\u001b[0;31m             \u001b[0;32mreturn\u001b[0m \u001b[0mobject\u001b[0m\u001b[0;34m.\u001b[0m\u001b[0m__getattribute__\u001b[0m\u001b[0;34m(\u001b[0m\u001b[0mself\u001b[0m\u001b[0;34m,\u001b[0m \u001b[0mname\u001b[0m\u001b[0;34m)\u001b[0m\u001b[0;34m\u001b[0m\u001b[0;34m\u001b[0m\u001b[0m\n\u001b[0m\u001b[1;32m   5181\u001b[0m \u001b[0;34m\u001b[0m\u001b[0m\n\u001b[1;32m   5182\u001b[0m     \u001b[0;32mdef\u001b[0m \u001b[0m__setattr__\u001b[0m\u001b[0;34m(\u001b[0m\u001b[0mself\u001b[0m\u001b[0;34m,\u001b[0m \u001b[0mname\u001b[0m\u001b[0;34m,\u001b[0m \u001b[0mvalue\u001b[0m\u001b[0;34m)\u001b[0m\u001b[0;34m:\u001b[0m\u001b[0;34m\u001b[0m\u001b[0;34m\u001b[0m\u001b[0m\n",
      "\u001b[0;31mAttributeError\u001b[0m: 'Series' object has no attribute 'find'"
     ]
    }
   ],
   "source": [
    "oliver_confed_data[oliver_confed_data['commentText'].find('crowder')]"
   ]
  },
  {
   "cell_type": "code",
   "execution_count": 118,
   "metadata": {},
   "outputs": [
    {
     "data": {
      "text/plain": [
       "0        False\n",
       "1        False\n",
       "2        False\n",
       "3        False\n",
       "4        False\n",
       "         ...  \n",
       "33439      NaN\n",
       "33440    False\n",
       "33441    False\n",
       "33442    False\n",
       "33443      NaN\n",
       "Name: commentText, Length: 33444, dtype: object"
      ]
     },
     "execution_count": 118,
     "metadata": {},
     "output_type": "execute_result"
    }
   ],
   "source": [
    "oliver_confed_data['commentText'].str.contains('crowder')"
   ]
  },
  {
   "cell_type": "code",
   "execution_count": 158,
   "metadata": {},
   "outputs": [
    {
     "data": {
      "text/html": [
       "<div>\n",
       "<style scoped>\n",
       "    .dataframe tbody tr th:only-of-type {\n",
       "        vertical-align: middle;\n",
       "    }\n",
       "\n",
       "    .dataframe tbody tr th {\n",
       "        vertical-align: top;\n",
       "    }\n",
       "\n",
       "    .dataframe thead th {\n",
       "        text-align: right;\n",
       "    }\n",
       "</style>\n",
       "<table border=\"1\" class=\"dataframe\">\n",
       "  <thead>\n",
       "    <tr style=\"text-align: right;\">\n",
       "      <th></th>\n",
       "      <th>id</th>\n",
       "      <th>user</th>\n",
       "      <th>date</th>\n",
       "      <th>timestamp</th>\n",
       "      <th>commentText</th>\n",
       "      <th>likes</th>\n",
       "      <th>hasReplies</th>\n",
       "      <th>numberOfReplies</th>\n",
       "      <th>replies.id</th>\n",
       "      <th>replies.user</th>\n",
       "      <th>replies.date</th>\n",
       "      <th>replies.timestamp</th>\n",
       "      <th>replies.commentText</th>\n",
       "      <th>replies.likes</th>\n",
       "      <th>length_commentText</th>\n",
       "    </tr>\n",
       "  </thead>\n",
       "  <tbody>\n",
       "    <tr>\n",
       "      <th>54</th>\n",
       "      <td>UgxUNTHqSKbTNjQbtY94AaABAg</td>\n",
       "      <td>AE Devereux</td>\n",
       "      <td>1 week ago</td>\n",
       "      <td>1.568037e+12</td>\n",
       "      <td>Mr. Oliver,  should the statue of Bomber Harri...</td>\n",
       "      <td>0.0</td>\n",
       "      <td>False</td>\n",
       "      <td>0.0</td>\n",
       "      <td>NaN</td>\n",
       "      <td>NaN</td>\n",
       "      <td>NaN</td>\n",
       "      <td>NaN</td>\n",
       "      <td>NaN</td>\n",
       "      <td>NaN</td>\n",
       "      <td>204.0</td>\n",
       "    </tr>\n",
       "    <tr>\n",
       "      <th>85</th>\n",
       "      <td>UgyyJRhiHDhhZUZJNmZ4AaABAg</td>\n",
       "      <td>Drake Koefoed</td>\n",
       "      <td>1 week ago</td>\n",
       "      <td>1.568037e+12</td>\n",
       "      <td>https://www.huffpost.com/entry/rethinkin-linco...</td>\n",
       "      <td>0.0</td>\n",
       "      <td>True</td>\n",
       "      <td>1.0</td>\n",
       "      <td>NaN</td>\n",
       "      <td>NaN</td>\n",
       "      <td>NaN</td>\n",
       "      <td>NaN</td>\n",
       "      <td>NaN</td>\n",
       "      <td>NaN</td>\n",
       "      <td>250.0</td>\n",
       "    </tr>\n",
       "    <tr>\n",
       "      <th>109</th>\n",
       "      <td>UgyTG6K5_SV4wOxsPmh4AaABAg</td>\n",
       "      <td>AE Devereux</td>\n",
       "      <td>2 weeks ago</td>\n",
       "      <td>1.567432e+12</td>\n",
       "      <td>@JustFlemishMe  \"Alright, I'm in this comment ...</td>\n",
       "      <td>0.0</td>\n",
       "      <td>False</td>\n",
       "      <td>0.0</td>\n",
       "      <td>NaN</td>\n",
       "      <td>NaN</td>\n",
       "      <td>NaN</td>\n",
       "      <td>NaN</td>\n",
       "      <td>NaN</td>\n",
       "      <td>NaN</td>\n",
       "      <td>3627.0</td>\n",
       "    </tr>\n",
       "    <tr>\n",
       "      <th>253</th>\n",
       "      <td>UgwYgxtbDRaG-842rcB4AaABAg</td>\n",
       "      <td>weldrocks</td>\n",
       "      <td>1 month ago</td>\n",
       "      <td>1.565963e+12</td>\n",
       "      <td>https://www.ebay.com/itm/1968-Dodge-Charger/19...</td>\n",
       "      <td>0.0</td>\n",
       "      <td>False</td>\n",
       "      <td>0.0</td>\n",
       "      <td>NaN</td>\n",
       "      <td>NaN</td>\n",
       "      <td>NaN</td>\n",
       "      <td>NaN</td>\n",
       "      <td>NaN</td>\n",
       "      <td>NaN</td>\n",
       "      <td>95.0</td>\n",
       "    </tr>\n",
       "    <tr>\n",
       "      <th>352</th>\n",
       "      <td>Ugy-YEsJrp0nAc81SaV4AaABAg</td>\n",
       "      <td>Robert Jordan</td>\n",
       "      <td>1 month ago</td>\n",
       "      <td>1.565963e+12</td>\n",
       "      <td>In my town, back in 1910, the Board of Supervi...</td>\n",
       "      <td>0.0</td>\n",
       "      <td>False</td>\n",
       "      <td>0.0</td>\n",
       "      <td>NaN</td>\n",
       "      <td>NaN</td>\n",
       "      <td>NaN</td>\n",
       "      <td>NaN</td>\n",
       "      <td>NaN</td>\n",
       "      <td>NaN</td>\n",
       "      <td>490.0</td>\n",
       "    </tr>\n",
       "  </tbody>\n",
       "</table>\n",
       "</div>"
      ],
      "text/plain": [
       "                             id           user         date     timestamp  \\\n",
       "54   UgxUNTHqSKbTNjQbtY94AaABAg    AE Devereux   1 week ago  1.568037e+12   \n",
       "85   UgyyJRhiHDhhZUZJNmZ4AaABAg  Drake Koefoed   1 week ago  1.568037e+12   \n",
       "109  UgyTG6K5_SV4wOxsPmh4AaABAg    AE Devereux  2 weeks ago  1.567432e+12   \n",
       "253  UgwYgxtbDRaG-842rcB4AaABAg      weldrocks  1 month ago  1.565963e+12   \n",
       "352  Ugy-YEsJrp0nAc81SaV4AaABAg  Robert Jordan  1 month ago  1.565963e+12   \n",
       "\n",
       "                                           commentText  likes hasReplies  \\\n",
       "54   Mr. Oliver,  should the statue of Bomber Harri...    0.0      False   \n",
       "85   https://www.huffpost.com/entry/rethinkin-linco...    0.0       True   \n",
       "109  @JustFlemishMe  \"Alright, I'm in this comment ...    0.0      False   \n",
       "253  https://www.ebay.com/itm/1968-Dodge-Charger/19...    0.0      False   \n",
       "352  In my town, back in 1910, the Board of Supervi...    0.0      False   \n",
       "\n",
       "     numberOfReplies replies.id replies.user replies.date  replies.timestamp  \\\n",
       "54               0.0        NaN          NaN          NaN                NaN   \n",
       "85               1.0        NaN          NaN          NaN                NaN   \n",
       "109              0.0        NaN          NaN          NaN                NaN   \n",
       "253              0.0        NaN          NaN          NaN                NaN   \n",
       "352              0.0        NaN          NaN          NaN                NaN   \n",
       "\n",
       "    replies.commentText  replies.likes  length_commentText  \n",
       "54                  NaN            NaN               204.0  \n",
       "85                  NaN            NaN               250.0  \n",
       "109                 NaN            NaN              3627.0  \n",
       "253                 NaN            NaN                95.0  \n",
       "352                 NaN            NaN               490.0  "
      ]
     },
     "execution_count": 158,
     "metadata": {},
     "output_type": "execute_result"
    }
   ],
   "source": [
    "oliver_confed_data[oliver_confed_data['id'].notnull()][oliver_confed_data[oliver_confed_data['id'].notnull()]['commentText'].str.contains('http')].head()"
   ]
  },
  {
   "cell_type": "code",
   "execution_count": 178,
   "metadata": {},
   "outputs": [
    {
     "name": "stdout",
     "output_type": "stream",
     "text": [
      "https://www.huffpost.com/entry/rethinkin-lincoln-on-the_b_2294455\n",
      "\n",
      "\n",
      "wrong.  the union won, so it wrote a little virtue signaling in.  the north didn't care about the slaves, and still doesn't.  most confederates did not own slaves.  only the rich did\n"
     ]
    }
   ],
   "source": [
    "print(oliver_confed_data.loc[85,'commentText'])"
   ]
  },
  {
   "cell_type": "code",
   "execution_count": 16,
   "metadata": {},
   "outputs": [],
   "source": [
    "\n",
    "#print(extractor(data=oliver_confed_data, Filter='Length',top=5).reset_index(drop=True).commentText[3])"
   ]
  },
  {
   "cell_type": "code",
   "execution_count": 23,
   "metadata": {},
   "outputs": [
    {
     "ename": "AttributeError",
     "evalue": "module 'pandas' has no attribute 'reset_index'",
     "output_type": "error",
     "traceback": [
      "\u001b[0;31m---------------------------------------------------------------------------\u001b[0m",
      "\u001b[0;31mAttributeError\u001b[0m                            Traceback (most recent call last)",
      "\u001b[0;32m<ipython-input-23-4c2c917c144c>\u001b[0m in \u001b[0;36m<module>\u001b[0;34m\u001b[0m\n\u001b[0;32m----> 1\u001b[0;31m \u001b[0mpd\u001b[0m\u001b[0;34m.\u001b[0m\u001b[0mreset_index\u001b[0m\u001b[0;34m(\u001b[0m\u001b[0;34m)\u001b[0m\u001b[0;34m\u001b[0m\u001b[0;34m\u001b[0m\u001b[0m\n\u001b[0m",
      "\u001b[0;32m/anaconda3/envs/insight/lib/python3.7/site-packages/pandas/__init__.py\u001b[0m in \u001b[0;36m__getattr__\u001b[0;34m(name)\u001b[0m\n\u001b[1;32m    212\u001b[0m \u001b[0;34m\u001b[0m\u001b[0m\n\u001b[1;32m    213\u001b[0m             \u001b[0;32mreturn\u001b[0m \u001b[0mPanel\u001b[0m\u001b[0;34m\u001b[0m\u001b[0;34m\u001b[0m\u001b[0m\n\u001b[0;32m--> 214\u001b[0;31m         \u001b[0;32mraise\u001b[0m \u001b[0mAttributeError\u001b[0m\u001b[0;34m(\u001b[0m\u001b[0;34m\"module 'pandas' has no attribute '{}'\"\u001b[0m\u001b[0;34m.\u001b[0m\u001b[0mformat\u001b[0m\u001b[0;34m(\u001b[0m\u001b[0mname\u001b[0m\u001b[0;34m)\u001b[0m\u001b[0;34m)\u001b[0m\u001b[0;34m\u001b[0m\u001b[0;34m\u001b[0m\u001b[0m\n\u001b[0m\u001b[1;32m    215\u001b[0m \u001b[0;34m\u001b[0m\u001b[0m\n\u001b[1;32m    216\u001b[0m \u001b[0;34m\u001b[0m\u001b[0m\n",
      "\u001b[0;31mAttributeError\u001b[0m: module 'pandas' has no attribute 'reset_index'"
     ]
    }
   ],
   "source": [
    "oliver_confed_data.reset_index()"
   ]
  },
  {
   "cell_type": "markdown",
   "metadata": {},
   "source": [
    "## Label comments"
   ]
  },
  {
   "cell_type": "code",
   "execution_count": 143,
   "metadata": {},
   "outputs": [],
   "source": [
    "# oliver_confed_data['agree_score']= np.nan\n",
    "# oliver_confed_data['substance_score']= np.nan\n",
    "# oliver_confed_data['mean_comment']= np.nan"
   ]
  },
  {
   "cell_type": "code",
   "execution_count": 24,
   "metadata": {},
   "outputs": [],
   "source": [
    "# create a way to pick comments at random, keep track of what we have picked\n",
    "# print a comment \n",
    "# rate by agree, substance and mean\n",
    "# repeat (just run first line again)"
   ]
  },
  {
   "cell_type": "code",
   "execution_count": 152,
   "metadata": {},
   "outputs": [],
   "source": [
    "# create an array of indecis we have done this round\n",
    "#Indecies_marked=[]"
   ]
  },
  {
   "cell_type": "code",
   "execution_count": 145,
   "metadata": {},
   "outputs": [],
   "source": [
    "\n",
    "# create a way to pick comments at random, keep track of what we have picked\n",
    "\n",
    "#pick a random index of an orignial comment(not a reply) that we have not used yet\n",
    "def new_index():\n",
    "    new=False\n",
    "    while new==False:\n",
    "        rand=np.random.randint(1,len(oliver_confed_data[oliver_confed_data['id'].notnull()]))\n",
    "        new_indexn=oliver_confed_data[oliver_confed_data['id'].notnull()].index[rand]\n",
    "        # check to see if its one we have done before\n",
    "        if new_indexn not in Indecies_marked:\n",
    "            new=True\n",
    "    return new_indexn\n"
   ]
  },
  {
   "cell_type": "code",
   "execution_count": 256,
   "metadata": {},
   "outputs": [
    {
     "name": "stdout",
     "output_type": "stream",
     "text": [
      "In school we learned that the war was not about slavery so I’m very confused\n"
     ]
    }
   ],
   "source": [
    "# print a comment\n",
    "new=new_index()\n",
    "print(oliver_confed_data.loc[new,'commentText'])"
   ]
  },
  {
   "cell_type": "code",
   "execution_count": 257,
   "metadata": {},
   "outputs": [],
   "source": [
    "# rate by agree, substance and mean\n",
    "# agree score\n",
    "oliver_confed_data['agree_score'].iloc[new]=3\n",
    "\n",
    "# substance_score\n",
    "oliver_confed_data['substance_score'].iloc[new]=3\n",
    "\n",
    "# mean_comment\n",
    "oliver_confed_data['mean_comment'].iloc[new]= 'n'\n",
    "\n",
    "Indecies_marked+=[new]\n"
   ]
  },
  {
   "cell_type": "code",
   "execution_count": 261,
   "metadata": {},
   "outputs": [
    {
     "data": {
      "text/plain": [
       "agree_score        3\n",
       "substance_score    3\n",
       "mean_comment       n\n",
       "Name: 6334, dtype: object"
      ]
     },
     "execution_count": 261,
     "metadata": {},
     "output_type": "execute_result"
    }
   ],
   "source": [
    "oliver_confed_data.iloc[new][-3:]"
   ]
  },
  {
   "cell_type": "code",
   "execution_count": 259,
   "metadata": {},
   "outputs": [
    {
     "data": {
      "text/plain": [
       "30"
      ]
     },
     "execution_count": 259,
     "metadata": {},
     "output_type": "execute_result"
    }
   ],
   "source": [
    "len(Indecies_marked)"
   ]
  },
  {
   "cell_type": "code",
   "execution_count": 260,
   "metadata": {},
   "outputs": [
    {
     "data": {
      "text/plain": [
       "id                                            UgxhEdSUfujzFWtc-vV4AaABAg\n",
       "user                                                           james 224\n",
       "date                                                          1 year ago\n",
       "timestamp                                                    1.53711e+12\n",
       "commentText            In school we learned that the war was not abou...\n",
       "likes                                                                  0\n",
       "hasReplies                                                         False\n",
       "numberOfReplies                                                        0\n",
       "replies.id                                                           NaN\n",
       "replies.user                                                         NaN\n",
       "replies.date                                                         NaN\n",
       "replies.timestamp                                                    NaN\n",
       "replies.commentText                                                  NaN\n",
       "replies.likes                                                        NaN\n",
       "length_commentText                                                    76\n",
       "agree_score                                                            3\n",
       "substance_score                                                        3\n",
       "mean_comment                                                           n\n",
       "Name: 6334, dtype: object"
      ]
     },
     "execution_count": 260,
     "metadata": {},
     "output_type": "execute_result"
    }
   ],
   "source": [
    "oliver_confed_data.iloc[new]"
   ]
  },
  {
   "cell_type": "code",
   "execution_count": 141,
   "metadata": {},
   "outputs": [],
   "source": []
  },
  {
   "cell_type": "code",
   "execution_count": null,
   "metadata": {},
   "outputs": [],
   "source": []
  }
 ],
 "metadata": {
  "kernelspec": {
   "display_name": "Python 3",
   "language": "python",
   "name": "python3"
  },
  "language_info": {
   "codemirror_mode": {
    "name": "ipython",
    "version": 3
   },
   "file_extension": ".py",
   "mimetype": "text/x-python",
   "name": "python",
   "nbconvert_exporter": "python",
   "pygments_lexer": "ipython3",
   "version": "3.7.4"
  }
 },
 "nbformat": 4,
 "nbformat_minor": 2
}
