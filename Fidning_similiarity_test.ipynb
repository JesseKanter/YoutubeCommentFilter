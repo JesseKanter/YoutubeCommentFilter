{
 "cells": [
  {
   "cell_type": "code",
   "execution_count": 73,
   "metadata": {},
   "outputs": [],
   "source": [
    "import numpy as np\n",
    "import pandas as pd\n",
    "import matplotlib.pyplot as plt\n",
    "import seaborn as sns\n",
    "%matplotlib inline"
   ]
  },
  {
   "cell_type": "code",
   "execution_count": 74,
   "metadata": {},
   "outputs": [],
   "source": [
    "import string\n",
    "from sklearn.feature_extraction.text import CountVectorizer\n",
    "from sklearn.feature_extraction.text import TfidfTransformer\n",
    "from nltk.corpus import stopwords\n",
    "from sklearn.metrics.pairwise import cosine_similarity"
   ]
  },
  {
   "cell_type": "code",
   "execution_count": 75,
   "metadata": {},
   "outputs": [],
   "source": [
    "comments=pd.read_csv('comments_data/AnotherTop10CopycatMovies_comments.csv')\n",
    "tran=pd.read_csv('comments_data/AnotherTop10CopycatMovies_transcript_.csv')\n",
    "\n",
    "comments['Comment_length']=comments.Comment.apply(lambda s: s if type(s)==float else len(s))\n"
   ]
  },
  {
   "cell_type": "code",
   "execution_count": 7,
   "metadata": {},
   "outputs": [
    {
     "data": {
      "text/html": [
       "<div>\n",
       "<style scoped>\n",
       "    .dataframe tbody tr th:only-of-type {\n",
       "        vertical-align: middle;\n",
       "    }\n",
       "\n",
       "    .dataframe tbody tr th {\n",
       "        vertical-align: top;\n",
       "    }\n",
       "\n",
       "    .dataframe thead th {\n",
       "        text-align: right;\n",
       "    }\n",
       "</style>\n",
       "<table border=\"1\" class=\"dataframe\">\n",
       "  <thead>\n",
       "    <tr style=\"text-align: right;\">\n",
       "      <th></th>\n",
       "      <th>Unnamed: 0</th>\n",
       "      <th>Channel</th>\n",
       "      <th>Video Title</th>\n",
       "      <th>Video Description</th>\n",
       "      <th>Video ID</th>\n",
       "      <th>Comment</th>\n",
       "      <th>Comment ID</th>\n",
       "      <th>Replies</th>\n",
       "      <th>Likes</th>\n",
       "      <th>Comment_length</th>\n",
       "    </tr>\n",
       "  </thead>\n",
       "  <tbody>\n",
       "    <tr>\n",
       "      <th>26</th>\n",
       "      <td>26</td>\n",
       "      <td>WatchMojo.com</td>\n",
       "      <td>Another Top 10 Copycat Movies</td>\n",
       "      <td>Talk about déjà vu. For this list, we're looki...</td>\n",
       "      <td>-VidQFzpW7M</td>\n",
       "      <td>Ok ok ok... so you guys are saying that Megami...</td>\n",
       "      <td>Ugzkvu8XxvBCkWj7bMB4AaABAg</td>\n",
       "      <td>7</td>\n",
       "      <td>75</td>\n",
       "      <td>253</td>\n",
       "    </tr>\n",
       "    <tr>\n",
       "      <th>70</th>\n",
       "      <td>70</td>\n",
       "      <td>WatchMojo.com</td>\n",
       "      <td>Another Top 10 Copycat Movies</td>\n",
       "      <td>Talk about déjà vu. For this list, we're looki...</td>\n",
       "      <td>-VidQFzpW7M</td>\n",
       "      <td>yes Turner and Hooch and K9 have similar story...</td>\n",
       "      <td>Ugyvu7PKsWRciakbSRR4AaABAg</td>\n",
       "      <td>1</td>\n",
       "      <td>5</td>\n",
       "      <td>249</td>\n",
       "    </tr>\n",
       "  </tbody>\n",
       "</table>\n",
       "</div>"
      ],
      "text/plain": [
       "    Unnamed: 0        Channel                    Video Title  \\\n",
       "26          26  WatchMojo.com  Another Top 10 Copycat Movies   \n",
       "70          70  WatchMojo.com  Another Top 10 Copycat Movies   \n",
       "\n",
       "                                    Video Description     Video ID  \\\n",
       "26  Talk about déjà vu. For this list, we're looki...  -VidQFzpW7M   \n",
       "70  Talk about déjà vu. For this list, we're looki...  -VidQFzpW7M   \n",
       "\n",
       "                                              Comment  \\\n",
       "26  Ok ok ok... so you guys are saying that Megami...   \n",
       "70  yes Turner and Hooch and K9 have similar story...   \n",
       "\n",
       "                    Comment ID  Replies  Likes  Comment_length  \n",
       "26  Ugzkvu8XxvBCkWj7bMB4AaABAg        7     75             253  \n",
       "70  Ugyvu7PKsWRciakbSRR4AaABAg        1      5             249  "
      ]
     },
     "execution_count": 7,
     "metadata": {},
     "output_type": "execute_result"
    }
   ],
   "source": [
    "comments[comments.Comment_length>200].head()"
   ]
  },
  {
   "cell_type": "code",
   "execution_count": 83,
   "metadata": {},
   "outputs": [
    {
     "data": {
      "text/plain": [
       "False"
      ]
     },
     "execution_count": 83,
     "metadata": {},
     "output_type": "execute_result"
    }
   ],
   "source": [
    "comments.isnull().values.any()"
   ]
  },
  {
   "cell_type": "code",
   "execution_count": 88,
   "metadata": {},
   "outputs": [],
   "source": [
    "all_tran_text=''\n",
    "for s in tran.text:\n",
    "    all_tran_text+=s+' '"
   ]
  },
  {
   "cell_type": "code",
   "execution_count": 98,
   "metadata": {},
   "outputs": [
    {
     "data": {
      "text/plain": [
       "\"hese movies gave us an uncanny sense of deja vu welcome to watchmojo.com cat movies for this list we're looking at more twin films that share similar premises or plots and came out around the same ti\""
      ]
     },
     "execution_count": 98,
     "metadata": {},
     "output_type": "execute_result"
    }
   ],
   "source": []
  },
  {
   "cell_type": "code",
   "execution_count": 101,
   "metadata": {},
   "outputs": [
    {
     "data": {
      "text/plain": [
       "96               I AM \\n\\n\\n\\n\\n\\n\\n\\nThe flying Gorilla\n",
       "97     How dare you compare Megamind to the nonsense ...\n",
       "98     They made a third movie this year angel has fa...\n",
       "99     Project X & 21 and Over. They came out roughly...\n",
       "100    these movies gave us an uncanny sense of deja ...\n",
       "Name: Comment, dtype: object"
      ]
     },
     "execution_count": 101,
     "metadata": {},
     "output_type": "execute_result"
    }
   ],
   "source": [
    "comments.append({'Comment':all_tran_text }, ignore_index=True)['Comment'].tail()"
   ]
  },
  {
   "cell_type": "code",
   "execution_count": 19,
   "metadata": {},
   "outputs": [],
   "source": [
    "def text_process(mess):\n",
    "    \"\"\"\n",
    "    Takes in a string of text, then performs the following:\n",
    "    1. Remove all punctuation\n",
    "    2. Remove all stopwords\n",
    "    3. Returns a list of the cleaned text\n",
    "    \"\"\"\n",
    "    # Check characters to see if they are in punctuation\n",
    "    nopunc = [char for char in mess if char not in string.punctuation]\n",
    "\n",
    "    # Join the characters again to form the string.\n",
    "    nopunc = ''.join(nopunc)\n",
    "    \n",
    "    # Now just remove any stopwords\n",
    "    return [word for word in nopunc.split() if word.lower() not in stopwords.words('english')]"
   ]
  },
  {
   "cell_type": "code",
   "execution_count": 102,
   "metadata": {},
   "outputs": [
    {
     "name": "stdout",
     "output_type": "stream",
     "text": [
      "1087\n"
     ]
    }
   ],
   "source": [
    "# Might take awhile...\n",
    "bow_transformer = CountVectorizer(analyzer=text_process).fit(comments.append({'Comment':all_tran_text }, ignore_index=True)['Comment'])\n",
    "\n",
    "# Print total number of vocab words\n",
    "print(len(bow_transformer.vocabulary_))"
   ]
  },
  {
   "cell_type": "code",
   "execution_count": 125,
   "metadata": {},
   "outputs": [],
   "source": [
    "comments_bow = bow_transformer.transform(comments.append({'Comment':all_tran_text }, ignore_index=True)['Comment'])"
   ]
  },
  {
   "cell_type": "code",
   "execution_count": 157,
   "metadata": {},
   "outputs": [
    {
     "name": "stdout",
     "output_type": "stream",
     "text": [
      "  (0, 9)\t1\n",
      "  (0, 174)\t1\n",
      "  (0, 222)\t1\n"
     ]
    }
   ],
   "source": [
    "print(bow_transformer.transform([' Project X  21  ']))"
   ]
  },
  {
   "cell_type": "code",
   "execution_count": 128,
   "metadata": {},
   "outputs": [
    {
     "name": "stdout",
     "output_type": "stream",
     "text": [
      "Shape of Sparse Matrix:  (101, 1087)\n",
      "Amount of Non-Zero occurences:  1448\n"
     ]
    }
   ],
   "source": [
    "print('Shape of Sparse Matrix: ', comments_bow.shape)\n",
    "print('Amount of Non-Zero occurences: ', comments_bow.nnz)"
   ]
  },
  {
   "cell_type": "code",
   "execution_count": 129,
   "metadata": {},
   "outputs": [
    {
     "name": "stdout",
     "output_type": "stream",
     "text": [
      "sparsity: 1.319\n"
     ]
    }
   ],
   "source": [
    "sparsity = (100.0 * comments_bow.nnz / (comments_bow.shape[0] * comments_bow.shape[1]))\n",
    "print('sparsity: {}'.format(round(sparsity,3)))"
   ]
  },
  {
   "cell_type": "code",
   "execution_count": 130,
   "metadata": {},
   "outputs": [],
   "source": [
    "tfidf_transformer = TfidfTransformer().fit(comments_bow)"
   ]
  },
  {
   "cell_type": "code",
   "execution_count": 132,
   "metadata": {},
   "outputs": [
    {
     "name": "stdout",
     "output_type": "stream",
     "text": [
      "(101, 1087)\n"
     ]
    }
   ],
   "source": [
    "comments_tfidf = tfidf_transformer.transform(comments_bow)\n",
    "print(comments_tfidf.shape)"
   ]
  },
  {
   "cell_type": "code",
   "execution_count": 159,
   "metadata": {},
   "outputs": [
    {
     "name": "stdout",
     "output_type": "stream",
     "text": [
      "  (0, 222)\t0.5773502691896258\n",
      "  (0, 174)\t0.5773502691896258\n",
      "  (0, 9)\t0.5773502691896258\n"
     ]
    }
   ],
   "source": [
    "print(tfidf_transformer.transform(bow_transformer.transform([' Project X  21  '])))"
   ]
  },
  {
   "cell_type": "markdown",
   "metadata": {},
   "source": [
    "## testing cosine sim"
   ]
  },
  {
   "cell_type": "code",
   "execution_count": 184,
   "metadata": {},
   "outputs": [],
   "source": [
    "tran_string_test=tfidf_transformer.transform(bow_transformer.transform([tran.text.iloc[200]]))\n",
    "comment_string_test=tfidf_transformer.transform(bow_transformer.transform([comments.Comment.iloc[1]]))   "
   ]
  },
  {
   "cell_type": "code",
   "execution_count": 185,
   "metadata": {},
   "outputs": [
    {
     "data": {
      "text/plain": [
       "array([[0.07109088]])"
      ]
     },
     "execution_count": 185,
     "metadata": {},
     "output_type": "execute_result"
    }
   ],
   "source": [
    "cosine_similarity(tran_string_test,comment_string_test)"
   ]
  },
  {
   "cell_type": "code",
   "execution_count": 183,
   "metadata": {},
   "outputs": [
    {
     "name": "stdout",
     "output_type": "stream",
     "text": [
      "dreamworks Megamind arrived right on the\n",
      "The biggest difference between Megamind and Despicable Me is that in Megamind the comic relief (Minion) is a million times more likeable and we can actually understand him\n"
     ]
    }
   ],
   "source": [
    "print(tran.text.iloc[200])\n",
    "print(comments.Comment.iloc[1])"
   ]
  },
  {
   "cell_type": "markdown",
   "metadata": {},
   "source": [
    "## create a cosine sim column for a specific tst string"
   ]
  },
  {
   "cell_type": "code",
   "execution_count": 411,
   "metadata": {},
   "outputs": [],
   "source": [
    "start=60*8-8\n",
    "duration=60*1-7"
   ]
  },
  {
   "cell_type": "code",
   "execution_count": 412,
   "metadata": {},
   "outputs": [
    {
     "name": "stdout",
     "output_type": "stream",
     "text": [
      "call me doc number 4 Madagascar and the wild a lion and his animal buddies escaped New York's Central Park Zoo and travel by ship to Africa where they struggled to adapt to the wild this isn't so difficult this is the setup for both dreamworks madagascar and disney's the wild made during the height of their rivalry the catalyst in both computer animated fish-out-of-water comedies is a zoo animal who longs to experience mother nature madagascar beat the wild to cinemas and was a hit with both moviegoers and most critics it may be coincidence but the wild focus on the relationship between father and cub and prominently featured an active volcano all elements that would find their way into Madagascar - at least I saw the wild before it disappeared I can still see it it's right here I found my roar you deserve this son \n"
     ]
    }
   ],
   "source": [
    "print(select_script_transcript(start,duration,tran))"
   ]
  },
  {
   "cell_type": "code",
   "execution_count": 354,
   "metadata": {},
   "outputs": [],
   "source": [
    "tran_string_test=tfidf_transformer.transform(bow_transformer.transform([select_script_transcript(start,duration,tran)]))"
   ]
  },
  {
   "cell_type": "code",
   "execution_count": null,
   "metadata": {},
   "outputs": [],
   "source": []
  },
  {
   "cell_type": "code",
   "execution_count": 355,
   "metadata": {},
   "outputs": [],
   "source": [
    "comments['sim_score']=comments.Comment.apply(lambda s: cosine_similarity(tran_string_test,tfidf_transformer.transform(bow_transformer.transform([s])))[0][0] )"
   ]
  },
  {
   "cell_type": "code",
   "execution_count": 352,
   "metadata": {},
   "outputs": [
    {
     "name": "stdout",
     "output_type": "stream",
     "text": [
      "Megamind is way better than Despicable Me\n"
     ]
    }
   ],
   "source": [
    "print(comments.sort_values(by='sim_score',ascending=False).Comment.iloc[4])"
   ]
  },
  {
   "cell_type": "code",
   "execution_count": 423,
   "metadata": {},
   "outputs": [
    {
     "data": {
      "text/plain": [
       "2"
      ]
     },
     "execution_count": 423,
     "metadata": {},
     "output_type": "execute_result"
    }
   ],
   "source": [
    "(comments.sort_values(by='sim_score',ascending=False).head(3).iloc[0].Replies)"
   ]
  },
  {
   "cell_type": "code",
   "execution_count": 427,
   "metadata": {},
   "outputs": [
    {
     "name": "stdout",
     "output_type": "stream",
     "text": [
      "Buuuuuuutttt, both the wild and Madagascar are great movies,\n",
      "The wild came out 2006 . Madagascar came out 2005 .\n",
      "They made a third movie this year angel has fallen i saw it it was good at least to me.\n"
     ]
    }
   ],
   "source": [
    "i=0\n",
    "while i < len(comments.sort_values(by='sim_score',ascending=False).head(3)):\n",
    "    print(comments.sort_values(by='sim_score',ascending=False).head(3).iloc[i].Comment)\n",
    "    i+=1"
   ]
  },
  {
   "cell_type": "code",
   "execution_count": 432,
   "metadata": {},
   "outputs": [
    {
     "data": {
      "text/html": [
       "<div>\n",
       "<style scoped>\n",
       "    .dataframe tbody tr th:only-of-type {\n",
       "        vertical-align: middle;\n",
       "    }\n",
       "\n",
       "    .dataframe tbody tr th {\n",
       "        vertical-align: top;\n",
       "    }\n",
       "\n",
       "    .dataframe thead th {\n",
       "        text-align: right;\n",
       "    }\n",
       "</style>\n",
       "<table border=\"1\" class=\"dataframe\">\n",
       "  <thead>\n",
       "    <tr style=\"text-align: right;\">\n",
       "      <th></th>\n",
       "      <th>Unnamed: 0</th>\n",
       "      <th>Channel</th>\n",
       "      <th>Video Title</th>\n",
       "      <th>Video Description</th>\n",
       "      <th>Video ID</th>\n",
       "      <th>Comment</th>\n",
       "      <th>Comment ID</th>\n",
       "      <th>Replies</th>\n",
       "      <th>Likes</th>\n",
       "      <th>Comment_length</th>\n",
       "      <th>sim_score</th>\n",
       "    </tr>\n",
       "  </thead>\n",
       "  <tbody>\n",
       "    <tr>\n",
       "      <th>37</th>\n",
       "      <td>37</td>\n",
       "      <td>WatchMojo.com</td>\n",
       "      <td>Another Top 10 Copycat Movies</td>\n",
       "      <td>Talk about déjà vu. For this list, we're looki...</td>\n",
       "      <td>-VidQFzpW7M</td>\n",
       "      <td>Buuuuuuutttt, both the wild and Madagascar are...</td>\n",
       "      <td>UgzDIagNI8ryqF6fxYZ4AaABAg</td>\n",
       "      <td>2</td>\n",
       "      <td>10</td>\n",
       "      <td>60</td>\n",
       "      <td>0.315788</td>\n",
       "    </tr>\n",
       "    <tr>\n",
       "      <th>34</th>\n",
       "      <td>34</td>\n",
       "      <td>WatchMojo.com</td>\n",
       "      <td>Another Top 10 Copycat Movies</td>\n",
       "      <td>Talk about déjà vu. For this list, we're looki...</td>\n",
       "      <td>-VidQFzpW7M</td>\n",
       "      <td>The wild came out 2006 . Madagascar came out 2...</td>\n",
       "      <td>UgwYBXGxCr9zEc64-hl4AaABAg</td>\n",
       "      <td>2</td>\n",
       "      <td>15</td>\n",
       "      <td>51</td>\n",
       "      <td>0.253807</td>\n",
       "    </tr>\n",
       "    <tr>\n",
       "      <th>61</th>\n",
       "      <td>61</td>\n",
       "      <td>WatchMojo.com</td>\n",
       "      <td>Another Top 10 Copycat Movies</td>\n",
       "      <td>Talk about déjà vu. For this list, we're looki...</td>\n",
       "      <td>-VidQFzpW7M</td>\n",
       "      <td>I mean, I grew up with both Madagascar and The...</td>\n",
       "      <td>UgwKVyZuerFtgCEfeoF4AaABAg</td>\n",
       "      <td>0</td>\n",
       "      <td>2</td>\n",
       "      <td>73</td>\n",
       "      <td>0.136106</td>\n",
       "    </tr>\n",
       "    <tr>\n",
       "      <th>98</th>\n",
       "      <td>98</td>\n",
       "      <td>WatchMojo.com</td>\n",
       "      <td>Another Top 10 Copycat Movies</td>\n",
       "      <td>Talk about déjà vu. For this list, we're looki...</td>\n",
       "      <td>-VidQFzpW7M</td>\n",
       "      <td>They made a third movie this year angel has fa...</td>\n",
       "      <td>UgzM0NAczYUgvjROeWd4AaABAg</td>\n",
       "      <td>1</td>\n",
       "      <td>2</td>\n",
       "      <td>87</td>\n",
       "      <td>0.118048</td>\n",
       "    </tr>\n",
       "    <tr>\n",
       "      <th>28</th>\n",
       "      <td>28</td>\n",
       "      <td>WatchMojo.com</td>\n",
       "      <td>Another Top 10 Copycat Movies</td>\n",
       "      <td>Talk about déjà vu. For this list, we're looki...</td>\n",
       "      <td>-VidQFzpW7M</td>\n",
       "      <td>when I saw the title of the video say another....</td>\n",
       "      <td>Ugx5F1A9N5PWTTubeuR4AaABAg</td>\n",
       "      <td>0</td>\n",
       "      <td>12</td>\n",
       "      <td>168</td>\n",
       "      <td>0.092078</td>\n",
       "    </tr>\n",
       "    <tr>\n",
       "      <th>31</th>\n",
       "      <td>31</td>\n",
       "      <td>WatchMojo.com</td>\n",
       "      <td>Another Top 10 Copycat Movies</td>\n",
       "      <td>Talk about déjà vu. For this list, we're looki...</td>\n",
       "      <td>-VidQFzpW7M</td>\n",
       "      <td>Tough gig for Churchill saw the trailer for th...</td>\n",
       "      <td>Ugz0Uin-mxl_dpZ2wgh4AaABAg</td>\n",
       "      <td>1</td>\n",
       "      <td>9</td>\n",
       "      <td>96</td>\n",
       "      <td>0.077401</td>\n",
       "    </tr>\n",
       "    <tr>\n",
       "      <th>54</th>\n",
       "      <td>54</td>\n",
       "      <td>WatchMojo.com</td>\n",
       "      <td>Another Top 10 Copycat Movies</td>\n",
       "      <td>Talk about déjà vu. For this list, we're looki...</td>\n",
       "      <td>-VidQFzpW7M</td>\n",
       "      <td>I see Megamind I click</td>\n",
       "      <td>UgwXGuWPmAM3Bj46aDl4AaABAg</td>\n",
       "      <td>0</td>\n",
       "      <td>9</td>\n",
       "      <td>22</td>\n",
       "      <td>0.068053</td>\n",
       "    </tr>\n",
       "    <tr>\n",
       "      <th>18</th>\n",
       "      <td>18</td>\n",
       "      <td>WatchMojo.com</td>\n",
       "      <td>Another Top 10 Copycat Movies</td>\n",
       "      <td>Talk about déjà vu. For this list, we're looki...</td>\n",
       "      <td>-VidQFzpW7M</td>\n",
       "      <td>Watching “Megamind” still makes me laugh, it’s...</td>\n",
       "      <td>UgyvztIBfL4N6zYII2N4AaABAg</td>\n",
       "      <td>4</td>\n",
       "      <td>32</td>\n",
       "      <td>157</td>\n",
       "      <td>0.048594</td>\n",
       "    </tr>\n",
       "  </tbody>\n",
       "</table>\n",
       "</div>"
      ],
      "text/plain": [
       "    Unnamed: 0        Channel                    Video Title  \\\n",
       "37          37  WatchMojo.com  Another Top 10 Copycat Movies   \n",
       "34          34  WatchMojo.com  Another Top 10 Copycat Movies   \n",
       "61          61  WatchMojo.com  Another Top 10 Copycat Movies   \n",
       "98          98  WatchMojo.com  Another Top 10 Copycat Movies   \n",
       "28          28  WatchMojo.com  Another Top 10 Copycat Movies   \n",
       "31          31  WatchMojo.com  Another Top 10 Copycat Movies   \n",
       "54          54  WatchMojo.com  Another Top 10 Copycat Movies   \n",
       "18          18  WatchMojo.com  Another Top 10 Copycat Movies   \n",
       "\n",
       "                                    Video Description     Video ID  \\\n",
       "37  Talk about déjà vu. For this list, we're looki...  -VidQFzpW7M   \n",
       "34  Talk about déjà vu. For this list, we're looki...  -VidQFzpW7M   \n",
       "61  Talk about déjà vu. For this list, we're looki...  -VidQFzpW7M   \n",
       "98  Talk about déjà vu. For this list, we're looki...  -VidQFzpW7M   \n",
       "28  Talk about déjà vu. For this list, we're looki...  -VidQFzpW7M   \n",
       "31  Talk about déjà vu. For this list, we're looki...  -VidQFzpW7M   \n",
       "54  Talk about déjà vu. For this list, we're looki...  -VidQFzpW7M   \n",
       "18  Talk about déjà vu. For this list, we're looki...  -VidQFzpW7M   \n",
       "\n",
       "                                              Comment  \\\n",
       "37  Buuuuuuutttt, both the wild and Madagascar are...   \n",
       "34  The wild came out 2006 . Madagascar came out 2...   \n",
       "61  I mean, I grew up with both Madagascar and The...   \n",
       "98  They made a third movie this year angel has fa...   \n",
       "28  when I saw the title of the video say another....   \n",
       "31  Tough gig for Churchill saw the trailer for th...   \n",
       "54                             I see Megamind I click   \n",
       "18  Watching “Megamind” still makes me laugh, it’s...   \n",
       "\n",
       "                    Comment ID  Replies  Likes  Comment_length  sim_score  \n",
       "37  UgzDIagNI8ryqF6fxYZ4AaABAg        2     10              60   0.315788  \n",
       "34  UgwYBXGxCr9zEc64-hl4AaABAg        2     15              51   0.253807  \n",
       "61  UgwKVyZuerFtgCEfeoF4AaABAg        0      2              73   0.136106  \n",
       "98  UgzM0NAczYUgvjROeWd4AaABAg        1      2              87   0.118048  \n",
       "28  Ugx5F1A9N5PWTTubeuR4AaABAg        0     12             168   0.092078  \n",
       "31  Ugz0Uin-mxl_dpZ2wgh4AaABAg        1      9              96   0.077401  \n",
       "54  UgwXGuWPmAM3Bj46aDl4AaABAg        0      9              22   0.068053  \n",
       "18  UgyvztIBfL4N6zYII2N4AaABAg        4     32             157   0.048594  "
      ]
     },
     "execution_count": 432,
     "metadata": {},
     "output_type": "execute_result"
    }
   ],
   "source": [
    "comments.sort_values(by='sim_score',ascending=False).head(8)"
   ]
  },
  {
   "cell_type": "markdown",
   "metadata": {},
   "source": []
  },
  {
   "cell_type": "markdown",
   "metadata": {},
   "source": [
    "## pick out a time slot from transcript"
   ]
  },
  {
   "cell_type": "code",
   "execution_count": 256,
   "metadata": {},
   "outputs": [],
   "source": [
    "tran['end']=tran['start']+tran['duration']"
   ]
  },
  {
   "cell_type": "code",
   "execution_count": 304,
   "metadata": {},
   "outputs": [],
   "source": [
    "def select_script_transcript(start_time,added_time,tran):\n",
    "    #start_time=20\n",
    "    end_time=start_time+added_time\n",
    "    #a[0] <= b[0] <= a[1] or b[0] <= a[0] <= b[1]\n",
    "    #tran[((start_time<=tran['start'])&(tran['start']<=end_time))]\n",
    "    #tran[((tran['start']<=start_time)&(start_time<=tran['end']))]\n",
    "\n",
    "    transelection=tran[((start_time<=tran['start'])&(tran['start']<=end_time)) | ((tran['start']<=start_time)&(start_time<=tran['end']))]\n",
    "\n",
    "    transelection_text=''\n",
    "    for s in transelection.text:\n",
    "        transelection_text+=s+' '\n",
    "    return(transelection_text)"
   ]
  },
  {
   "cell_type": "code",
   "execution_count": 309,
   "metadata": {},
   "outputs": [
    {
     "data": {
      "text/plain": [
       "\"to strata so how did she do she a pass or fail number 6k9 and Turner and hooch a detective partners up with a troublesome dog and they bond after an initial clash of personalities release just three months apart these buddy cop action comedies share the same premise and some similar sequences including the dog downing booze seducing a lady friend and some one-sided shouting matches what the plot strikeout in different directions as Belushi's loose cannon detective pursues a drug bust with German Shepherd police dog Jerry Lee and Tom Hanks fastidious character tracks down the criminals who murdered hooch his owner but both climaxes featured classic taking the bullet moments wearing canines earn their moniker of man's best friend [Music] number five Tombstone and Wyatt Earp originally Kevin Costner was attached to Tombstone but left to make his own wide earth movie with star wars scribe Lawrence Kasdan howdy stranger we're gonna get you one of those cigars kinda nice in here that's my name well they don't mean shit to me or anybody else in this world and it never will after this night his replacement Kurt Russell had no little hand in shaping Tombstone into a tight action-packed Western while Costner in Kasdan's film became a grandiose three-hour biopic focusing on the legendary LA man's life from childhood \""
      ]
     },
     "execution_count": 309,
     "metadata": {},
     "output_type": "execute_result"
    }
   ],
   "source": [
    "select_script_transcript(60*5,60*2,tran)"
   ]
  },
  {
   "cell_type": "code",
   "execution_count": 296,
   "metadata": {},
   "outputs": [
    {
     "data": {
      "text/html": [
       "<div>\n",
       "<style scoped>\n",
       "    .dataframe tbody tr th:only-of-type {\n",
       "        vertical-align: middle;\n",
       "    }\n",
       "\n",
       "    .dataframe tbody tr th {\n",
       "        vertical-align: top;\n",
       "    }\n",
       "\n",
       "    .dataframe thead th {\n",
       "        text-align: right;\n",
       "    }\n",
       "</style>\n",
       "<table border=\"1\" class=\"dataframe\">\n",
       "  <thead>\n",
       "    <tr style=\"text-align: right;\">\n",
       "      <th></th>\n",
       "      <th>Unnamed: 0</th>\n",
       "      <th>text</th>\n",
       "      <th>start</th>\n",
       "      <th>duration</th>\n",
       "      <th>end</th>\n",
       "    </tr>\n",
       "  </thead>\n",
       "  <tbody>\n",
       "    <tr>\n",
       "      <th>0</th>\n",
       "      <td>0</td>\n",
       "      <td>these movies gave us an uncanny sense of</td>\n",
       "      <td>0.680</td>\n",
       "      <td>9.220</td>\n",
       "      <td>9.900</td>\n",
       "    </tr>\n",
       "    <tr>\n",
       "      <th>1</th>\n",
       "      <td>1</td>\n",
       "      <td>deja vu welcome to watchmojo.com cat</td>\n",
       "      <td>3.810</td>\n",
       "      <td>8.459</td>\n",
       "      <td>12.269</td>\n",
       "    </tr>\n",
       "    <tr>\n",
       "      <th>2</th>\n",
       "      <td>2</td>\n",
       "      <td>movies for this list we're looking at</td>\n",
       "      <td>9.900</td>\n",
       "      <td>4.380</td>\n",
       "      <td>14.280</td>\n",
       "    </tr>\n",
       "    <tr>\n",
       "      <th>3</th>\n",
       "      <td>3</td>\n",
       "      <td>more twin films that share similar</td>\n",
       "      <td>12.269</td>\n",
       "      <td>4.680</td>\n",
       "      <td>16.949</td>\n",
       "    </tr>\n",
       "    <tr>\n",
       "      <th>4</th>\n",
       "      <td>4</td>\n",
       "      <td>premises or plots and came out around</td>\n",
       "      <td>14.280</td>\n",
       "      <td>5.070</td>\n",
       "      <td>19.350</td>\n",
       "    </tr>\n",
       "    <tr>\n",
       "      <th>5</th>\n",
       "      <td>5</td>\n",
       "      <td>the same time a few of these even had</td>\n",
       "      <td>16.949</td>\n",
       "      <td>4.981</td>\n",
       "      <td>21.930</td>\n",
       "    </tr>\n",
       "    <tr>\n",
       "      <th>6</th>\n",
       "      <td>6</td>\n",
       "      <td>the same endings so beware spoilers</td>\n",
       "      <td>19.350</td>\n",
       "      <td>12.179</td>\n",
       "      <td>31.529</td>\n",
       "    </tr>\n",
       "    <tr>\n",
       "      <th>7</th>\n",
       "      <td>7</td>\n",
       "      <td>ahead number 10 flight plan and redeye</td>\n",
       "      <td>21.930</td>\n",
       "      <td>12.899</td>\n",
       "      <td>34.829</td>\n",
       "    </tr>\n",
       "    <tr>\n",
       "      <th>8</th>\n",
       "      <td>8</td>\n",
       "      <td>in both these high-altitude thrillers a</td>\n",
       "      <td>31.529</td>\n",
       "      <td>5.701</td>\n",
       "      <td>37.230</td>\n",
       "    </tr>\n",
       "  </tbody>\n",
       "</table>\n",
       "</div>"
      ],
      "text/plain": [
       "   Unnamed: 0                                      text   start  duration  \\\n",
       "0           0  these movies gave us an uncanny sense of   0.680     9.220   \n",
       "1           1      deja vu welcome to watchmojo.com cat   3.810     8.459   \n",
       "2           2     movies for this list we're looking at   9.900     4.380   \n",
       "3           3        more twin films that share similar  12.269     4.680   \n",
       "4           4     premises or plots and came out around  14.280     5.070   \n",
       "5           5     the same time a few of these even had  16.949     4.981   \n",
       "6           6       the same endings so beware spoilers  19.350    12.179   \n",
       "7           7    ahead number 10 flight plan and redeye  21.930    12.899   \n",
       "8           8   in both these high-altitude thrillers a  31.529     5.701   \n",
       "\n",
       "      end  \n",
       "0   9.900  \n",
       "1  12.269  \n",
       "2  14.280  \n",
       "3  16.949  \n",
       "4  19.350  \n",
       "5  21.930  \n",
       "6  31.529  \n",
       "7  34.829  \n",
       "8  37.230  "
      ]
     },
     "execution_count": 296,
     "metadata": {},
     "output_type": "execute_result"
    }
   ],
   "source": [
    "tran.head(9)"
   ]
  },
  {
   "cell_type": "code",
   "execution_count": 278,
   "metadata": {},
   "outputs": [],
   "source": [
    "def overlap(a,b):\n",
    "    return a[0] <= b[0] <= a[1] or b[0] <= a[0] <= b[1]"
   ]
  },
  {
   "cell_type": "code",
   "execution_count": 280,
   "metadata": {},
   "outputs": [
    {
     "data": {
      "text/plain": [
       "False"
      ]
     },
     "execution_count": 280,
     "metadata": {},
     "output_type": "execute_result"
    }
   ],
   "source": [
    "overlap([0,5],[102,400])"
   ]
  },
  {
   "cell_type": "code",
   "execution_count": 34,
   "metadata": {},
   "outputs": [],
   "source": [
    "# def get_cosine_sim(vectors): \n",
    "#     vectors = [t for t in vectors]\n",
    "#     return cosine_similarity(vectors)"
   ]
  },
  {
   "cell_type": "code",
   "execution_count": 43,
   "metadata": {},
   "outputs": [
    {
     "data": {
      "text/plain": [
       "array([[0., 1., 0.],\n",
       "       [0., 0., 0.],\n",
       "       [0., 1., 0.]])"
      ]
     },
     "execution_count": 43,
     "metadata": {},
     "output_type": "execute_result"
    }
   ],
   "source": [
    "cosine_similarity(np.reshape([1,0,3],(3,1)),np.reshape([0,1,0],(3,1)))"
   ]
  },
  {
   "cell_type": "code",
   "execution_count": 49,
   "metadata": {},
   "outputs": [
    {
     "data": {
      "text/plain": [
       "array([[1],\n",
       "       [0],\n",
       "       [3]])"
      ]
     },
     "execution_count": 49,
     "metadata": {},
     "output_type": "execute_result"
    }
   ],
   "source": [
    "np.reshape([1,0,3],(3,1))\n"
   ]
  },
  {
   "cell_type": "code",
   "execution_count": 44,
   "metadata": {},
   "outputs": [
    {
     "data": {
      "text/plain": [
       "[1, 0, 3]"
      ]
     },
     "execution_count": 44,
     "metadata": {},
     "output_type": "execute_result"
    }
   ],
   "source": [
    "[1,0,3]"
   ]
  },
  {
   "cell_type": "code",
   "execution_count": 63,
   "metadata": {},
   "outputs": [
    {
     "data": {
      "text/plain": [
       "array([[0.80178373]])"
      ]
     },
     "execution_count": 63,
     "metadata": {},
     "output_type": "execute_result"
    }
   ],
   "source": [
    "cosine_similarity([[1,2,3]],[[0,0,1]])"
   ]
  },
  {
   "cell_type": "code",
   "execution_count": 178,
   "metadata": {},
   "outputs": [
    {
     "data": {
      "text/plain": [
       "2"
      ]
     },
     "execution_count": 178,
     "metadata": {},
     "output_type": "execute_result"
    }
   ],
   "source": [
    "'jesse'.find('s')"
   ]
  },
  {
   "cell_type": "code",
   "execution_count": 182,
   "metadata": {},
   "outputs": [
    {
     "data": {
      "text/html": [
       "<div>\n",
       "<style scoped>\n",
       "    .dataframe tbody tr th:only-of-type {\n",
       "        vertical-align: middle;\n",
       "    }\n",
       "\n",
       "    .dataframe tbody tr th {\n",
       "        vertical-align: top;\n",
       "    }\n",
       "\n",
       "    .dataframe thead th {\n",
       "        text-align: right;\n",
       "    }\n",
       "</style>\n",
       "<table border=\"1\" class=\"dataframe\">\n",
       "  <thead>\n",
       "    <tr style=\"text-align: right;\">\n",
       "      <th></th>\n",
       "      <th>Unnamed: 0</th>\n",
       "      <th>text</th>\n",
       "      <th>start</th>\n",
       "      <th>duration</th>\n",
       "    </tr>\n",
       "  </thead>\n",
       "  <tbody>\n",
       "    <tr>\n",
       "      <th>200</th>\n",
       "      <td>200</td>\n",
       "      <td>dreamworks Megamind arrived right on the</td>\n",
       "      <td>602.110</td>\n",
       "      <td>4.68</td>\n",
       "    </tr>\n",
       "    <tr>\n",
       "      <th>212</th>\n",
       "      <td>212</td>\n",
       "      <td>orphan children Megamind on the other</td>\n",
       "      <td>640.649</td>\n",
       "      <td>4.65</td>\n",
       "    </tr>\n",
       "  </tbody>\n",
       "</table>\n",
       "</div>"
      ],
      "text/plain": [
       "     Unnamed: 0                                      text    start  duration\n",
       "200         200  dreamworks Megamind arrived right on the  602.110      4.68\n",
       "212         212     orphan children Megamind on the other  640.649      4.65"
      ]
     },
     "execution_count": 182,
     "metadata": {},
     "output_type": "execute_result"
    }
   ],
   "source": [
    "tran[tran.text.str.contains('Megamind')]"
   ]
  },
  {
   "cell_type": "markdown",
   "metadata": {},
   "source": [
    "## second Try\n",
    "Try again with Just a tfidf on transcript"
   ]
  },
  {
   "cell_type": "code",
   "execution_count": 428,
   "metadata": {},
   "outputs": [
    {
     "data": {
      "text/html": [
       "<div>\n",
       "<style scoped>\n",
       "    .dataframe tbody tr th:only-of-type {\n",
       "        vertical-align: middle;\n",
       "    }\n",
       "\n",
       "    .dataframe tbody tr th {\n",
       "        vertical-align: top;\n",
       "    }\n",
       "\n",
       "    .dataframe thead th {\n",
       "        text-align: right;\n",
       "    }\n",
       "</style>\n",
       "<table border=\"1\" class=\"dataframe\">\n",
       "  <thead>\n",
       "    <tr style=\"text-align: right;\">\n",
       "      <th></th>\n",
       "      <th>Unnamed: 0</th>\n",
       "      <th>text</th>\n",
       "      <th>start</th>\n",
       "      <th>duration</th>\n",
       "      <th>end</th>\n",
       "    </tr>\n",
       "  </thead>\n",
       "  <tbody>\n",
       "    <tr>\n",
       "      <th>0</th>\n",
       "      <td>0</td>\n",
       "      <td>these movies gave us an uncanny sense of</td>\n",
       "      <td>0.68</td>\n",
       "      <td>9.22</td>\n",
       "      <td>9.9</td>\n",
       "    </tr>\n",
       "  </tbody>\n",
       "</table>\n",
       "</div>"
      ],
      "text/plain": [
       "   Unnamed: 0                                      text  start  duration  end\n",
       "0           0  these movies gave us an uncanny sense of   0.68      9.22  9.9"
      ]
     },
     "execution_count": 428,
     "metadata": {},
     "output_type": "execute_result"
    }
   ],
   "source": [
    "tran.head(1)"
   ]
  },
  {
   "cell_type": "code",
   "execution_count": 429,
   "metadata": {},
   "outputs": [],
   "source": [
    "def text_process(mess):\n",
    "    \"\"\"\n",
    "    Takes in a string of text, then performs the following:\n",
    "    1. Remove all punctuation\n",
    "    2. Remove all stopwords\n",
    "    3. Returns a list of the cleaned text\n",
    "    \"\"\"\n",
    "    # Check characters to see if they are in punctuation\n",
    "    nopunc = [char for char in mess if char not in string.punctuation]\n",
    "\n",
    "    # Join the characters again to form the string.\n",
    "    nopunc = ''.join(nopunc)\n",
    "    \n",
    "    # Now just remove any stopwords\n",
    "    return [word for word in nopunc.split() if word.lower() not in stopwords.words('english')]\n",
    "\n",
    "\n",
    "bow_tran_transformer = CountVectorizer(analyzer=text_process).fit(tran['text'])\n",
    "\n",
    "tran_bow = bow_tran_transformer.transform(tran['text'])\n",
    "\n",
    "tfidf_tran_transformer = TfidfTransformer().fit(tran_bow)\n",
    "\n",
    "#tran_tfidf = tfidf_tran_transformer.transform(tran_bow)\n"
   ]
  },
  {
   "cell_type": "code",
   "execution_count": 435,
   "metadata": {},
   "outputs": [],
   "source": [
    "\n",
    "def select_script_transcript(start_time,added_time,tran):\n",
    "    #start_time=20\n",
    "    end_time=start_time+added_time\n",
    "    #a[0] <= b[0] <= a[1] or b[0] <= a[0] <= b[1]\n",
    "    #tran[((start_time<=tran['start'])&(tran['start']<=end_time))]\n",
    "    #tran[((tran['start']<=start_time)&(start_time<=tran['end']))]\n",
    "\n",
    "    transelection=tran[((start_time<=tran['start'])&(tran['start']<=end_time)) | ((tran['start']<=start_time)&(start_time<=tran['end']))]\n",
    "\n",
    "    transelection_text=''\n",
    "    for s in transelection.text:\n",
    "        transelection_text+=s+' '\n",
    "    return(transelection_text)\n",
    "\n",
    "\n",
    "start=60*8-8\n",
    "duration=60*1-7\n",
    "\n",
    "# print(select_script_transcript(start,duration,tran))\n",
    "\n",
    "tran_string_test=tfidf_tran_transformer.transform(bow_tran_transformer.transform([select_script_transcript(start,duration,tran)]))\n",
    "\n",
    "\n",
    "\n",
    "comments['sim_score']=comments.Comment.apply(lambda s: cosine_similarity(tran_string_test,tfidf_tran_transformer.transform(bow_tran_transformer.transform([s])))[0][0] )\n",
    "\n",
    "relevant_comments_df=comments.sort_values(by='sim_score',ascending=False).head(3)"
   ]
  },
  {
   "cell_type": "code",
   "execution_count": 441,
   "metadata": {},
   "outputs": [
    {
     "name": "stdout",
     "output_type": "stream",
     "text": [
      "Buuuuuuutttt, both the wild and Madagascar are great movies,\n"
     ]
    }
   ],
   "source": [
    "print(relevant_comments_df.Comment.iloc[0])"
   ]
  },
  {
   "cell_type": "code",
   "execution_count": null,
   "metadata": {},
   "outputs": [],
   "source": []
  }
 ],
 "metadata": {
  "kernelspec": {
   "display_name": "Python 3",
   "language": "python",
   "name": "python3"
  },
  "language_info": {
   "codemirror_mode": {
    "name": "ipython",
    "version": 3
   },
   "file_extension": ".py",
   "mimetype": "text/x-python",
   "name": "python",
   "nbconvert_exporter": "python",
   "pygments_lexer": "ipython3",
   "version": "3.7.4"
  }
 },
 "nbformat": 4,
 "nbformat_minor": 2
}
